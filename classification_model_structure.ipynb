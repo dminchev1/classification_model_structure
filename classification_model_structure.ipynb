{
 "cells": [
  {
   "cell_type": "code",
   "execution_count": 1,
   "metadata": {},
   "outputs": [],
   "source": [
    "import numpy as np\n",
    "import pandas as pd\n",
    "from sklearn import svm, datasets\n",
    "from sklearn.ensemble import RandomForestClassifier\n",
    "from sklearn.tree import DecisionTreeClassifier\n",
    "from sklearn.neighbors import KNeighborsClassifier\n",
    "from sklearn.svm import SVC\n",
    "import time"
   ]
  },
  {
   "cell_type": "code",
   "execution_count": 2,
   "metadata": {},
   "outputs": [
    {
     "name": "stdout",
     "output_type": "stream",
     "text": [
      "C:\\Users\\dminc\\Data\n"
     ]
    }
   ],
   "source": [
    "cd C:\\Users\\dminc\\Data"
   ]
  },
  {
   "cell_type": "code",
   "execution_count": 3,
   "metadata": {},
   "outputs": [],
   "source": [
    "data = pd.read_csv('column_2C_weka.csv')"
   ]
  },
  {
   "cell_type": "code",
   "execution_count": 4,
   "metadata": {},
   "outputs": [],
   "source": [
    "# Normalize data\n",
    "from sklearn import preprocessing\n",
    "data_copy = data.loc[:, data.columns != 'class']\n",
    "normal_data = preprocessing.normalize(data_copy)"
   ]
  },
  {
   "cell_type": "code",
   "execution_count": 5,
   "metadata": {},
   "outputs": [],
   "source": [
    "data.loc[data['class'] == 'Abnormal', 'Class'] = 1\n",
    "data.loc[data['class'] == 'Normal', 'Class'] = 0"
   ]
  },
  {
   "cell_type": "code",
   "execution_count": 6,
   "metadata": {},
   "outputs": [],
   "source": [
    "data.drop(['class'], axis=1, inplace = True)"
   ]
  },
  {
   "cell_type": "code",
   "execution_count": 7,
   "metadata": {},
   "outputs": [],
   "source": [
    "X, y = normal_data[:], data.loc[:, 'Class']"
   ]
  },
  {
   "cell_type": "code",
   "execution_count": 8,
   "metadata": {},
   "outputs": [],
   "source": [
    "# Dict for each model\n",
    "model_params = {\n",
    "    'svm': {\n",
    "        'model': SVC(gamma='auto'),\n",
    "        'params': {\n",
    "            'C': range(1,11,1),\n",
    "            'kernel': ['linear', 'rbf', 'poly', 'sigmoid']\n",
    "        }\n",
    "    },\n",
    "    'random_forest': {\n",
    "        'model': RandomForestClassifier(),\n",
    "        'params': {\n",
    "            'n_estimators': range(40,160,10),\n",
    "            'criterion': ['gini', 'entropy'],\n",
    "            'max_depth': range(10,160,10)\n",
    "        }\n",
    "    },\n",
    "    'dtree': {\n",
    "        'model': DecisionTreeClassifier(),\n",
    "        'params': {\n",
    "            'criterion': ['gini', 'entropy'],\n",
    "            'splitter': ['best', 'random'],\n",
    "            'max_depth': range(10,160,10)\n",
    "        }\n",
    "        \n",
    "    },\n",
    "    'knn': {\n",
    "        'model': KNeighborsClassifier(),\n",
    "        'params': {\n",
    "            'n_neighbors': range(1,11,1),\n",
    "            'algorithm': ['ball_tree', 'kd_tree', 'brute'],\n",
    "            'weights': ['uniform', 'distance']\n",
    "        }\n",
    "    }\n",
    "}"
   ]
  },
  {
   "cell_type": "code",
   "execution_count": 9,
   "metadata": {},
   "outputs": [
    {
     "name": "stdout",
     "output_type": "stream",
     "text": [
      "Parameters currently in use:\n",
      "\n",
      "{'algorithm': 'auto',\n",
      " 'leaf_size': 30,\n",
      " 'metric': 'minkowski',\n",
      " 'metric_params': None,\n",
      " 'n_jobs': None,\n",
      " 'n_neighbors': 5,\n",
      " 'p': 2,\n",
      " 'weights': 'uniform'}\n"
     ]
    }
   ],
   "source": [
    "# Check params\n",
    "mod = KNeighborsClassifier()\n",
    "from pprint import pprint\n",
    "# Look at parameters\n",
    "print('Parameters currently in use:\\n')\n",
    "pprint(mod.get_params())"
   ]
  },
  {
   "cell_type": "code",
   "execution_count": 10,
   "metadata": {},
   "outputs": [
    {
     "name": "stdout",
     "output_type": "stream",
     "text": [
      "--- 224.81304621696472 seconds ---\n"
     ]
    }
   ],
   "source": [
    "# Cross-validation\n",
    "start_time = time.time()\n",
    "\n",
    "from sklearn.model_selection import GridSearchCV\n",
    "scores = []\n",
    "\n",
    "for model_name, mp in model_params.items():\n",
    "    clf = GridSearchCV(mp['model'], mp['params'], \n",
    "                       cv=5, return_train_score=False)\n",
    "    clf.fit(X, y)\n",
    "    scores.append({\n",
    "        'model': model_name,\n",
    "        'best_score': clf.best_score_,\n",
    "        'best_params': clf.best_params_\n",
    "    })\n",
    "print(\"--- %s seconds ---\" % (time.time() - start_time))"
   ]
  },
  {
   "cell_type": "code",
   "execution_count": 11,
   "metadata": {},
   "outputs": [],
   "source": [
    "# Single core computing took 224.8 seconds\n",
    "# further test on full cpu load - parallel computing"
   ]
  },
  {
   "cell_type": "code",
   "execution_count": 12,
   "metadata": {},
   "outputs": [
    {
     "data": {
      "text/html": [
       "<div>\n",
       "<style scoped>\n",
       "    .dataframe tbody tr th:only-of-type {\n",
       "        vertical-align: middle;\n",
       "    }\n",
       "\n",
       "    .dataframe tbody tr th {\n",
       "        vertical-align: top;\n",
       "    }\n",
       "\n",
       "    .dataframe thead th {\n",
       "        text-align: right;\n",
       "    }\n",
       "</style>\n",
       "<table border=\"1\" class=\"dataframe\">\n",
       "  <thead>\n",
       "    <tr style=\"text-align: right;\">\n",
       "      <th></th>\n",
       "      <th>model</th>\n",
       "      <th>best_score</th>\n",
       "      <th>best_params</th>\n",
       "    </tr>\n",
       "  </thead>\n",
       "  <tbody>\n",
       "    <tr>\n",
       "      <th>0</th>\n",
       "      <td>svm</td>\n",
       "      <td>0.761290</td>\n",
       "      <td>{'C': 10, 'kernel': 'linear'}</td>\n",
       "    </tr>\n",
       "    <tr>\n",
       "      <th>1</th>\n",
       "      <td>random_forest</td>\n",
       "      <td>0.800000</td>\n",
       "      <td>{'criterion': 'gini', 'max_depth': 130, 'n_estimators': 50}</td>\n",
       "    </tr>\n",
       "    <tr>\n",
       "      <th>2</th>\n",
       "      <td>dtree</td>\n",
       "      <td>0.806452</td>\n",
       "      <td>{'criterion': 'entropy', 'max_depth': 60, 'splitter': 'best'}</td>\n",
       "    </tr>\n",
       "    <tr>\n",
       "      <th>3</th>\n",
       "      <td>knn</td>\n",
       "      <td>0.774194</td>\n",
       "      <td>{'algorithm': 'ball_tree', 'n_neighbors': 10, 'weights': 'uniform'}</td>\n",
       "    </tr>\n",
       "  </tbody>\n",
       "</table>\n",
       "</div>"
      ],
      "text/plain": [
       "           model  best_score  \\\n",
       "0            svm    0.761290   \n",
       "1  random_forest    0.800000   \n",
       "2          dtree    0.806452   \n",
       "3            knn    0.774194   \n",
       "\n",
       "                                                           best_params  \n",
       "0                                        {'C': 10, 'kernel': 'linear'}  \n",
       "1          {'criterion': 'gini', 'max_depth': 130, 'n_estimators': 50}  \n",
       "2        {'criterion': 'entropy', 'max_depth': 60, 'splitter': 'best'}  \n",
       "3  {'algorithm': 'ball_tree', 'n_neighbors': 10, 'weights': 'uniform'}  "
      ]
     },
     "execution_count": 12,
     "metadata": {},
     "output_type": "execute_result"
    }
   ],
   "source": [
    "# Result\n",
    "import pandas as pd\n",
    "data_result = pd.DataFrame(scores, columns=['model','best_score','best_params'])\n",
    "pd.options.display.max_colwidth = 100\n",
    "data_result"
   ]
  },
  {
   "cell_type": "code",
   "execution_count": 30,
   "metadata": {},
   "outputs": [
    {
     "data": {
      "image/png": "[encoded data removed]",
      "text/plain": [
       "<Figure size 936x576 with 1 Axes>"
      ]
     },
     "metadata": {
      "needs_background": "light"
     },
     "output_type": "display_data"
    },
    {
     "name": "stdout",
     "output_type": "stream",
     "text": [
      "Max accuracy is 0.8548387096774194 with K = 14\n"
     ]
    }
   ],
   "source": [
    "# Test\n",
    "# Learning curve\n",
    "import matplotlib.pyplot as plt\n",
    "from sklearn.model_selection import train_test_split\n",
    "X_train, X_test, y_train, y_test = train_test_split(X, y,\n",
    "                                                    test_size = 0.2, \n",
    "                                                    random_state = 42)\n",
    "\n",
    "a = range(1,25,1)\n",
    "train_accuracy = []\n",
    "test_accuracy = []\n",
    "\n",
    "for k in iter(a):\n",
    "    knn = KNeighborsClassifier(n_neighbors = k, algorithm = 'ball_tree')\n",
    "    knn.fit(X_train, y_train)\n",
    "    train_accuracy.append(knn.score(X_train, y_train))\n",
    "    test_accuracy.append(knn.score(X_test, y_test))\n",
    "    \n",
    "plt.figure(figsize = [13, 8])\n",
    "plt.plot(a, test_accuracy, label = 'Testing set Accuracy')\n",
    "plt.plot(a, train_accuracy, label = 'Training set Accuracy')\n",
    "plt.legend()\n",
    "plt.title('Learning curve')\n",
    "plt.xlabel('Parameter count')\n",
    "plt.ylabel('Accuracy')\n",
    "plt.xticks(a)\n",
    "plt.savefig('learningK.png')\n",
    "plt.show()\n",
    "print(\"Max accuracy is {} with K = {}\".format(np.max(test_accuracy), \n",
    "                                        1+test_accuracy.index(np.max(test_accuracy))))"
   ]
  },
  {
   "cell_type": "code",
   "execution_count": 13,
   "metadata": {},
   "outputs": [],
   "source": [
    "# Interpret learning curve\n",
    "# train/test converge: early = high bias; late or no converge = high variance"
   ]
  }
 ],
 "metadata": {
  "kernelspec": {
   "display_name": "Python 3",
   "language": "python",
   "name": "python3"
  },
  "language_info": {
   "codemirror_mode": {
    "name": "ipython",
    "version": 3
   },
   "file_extension": ".py",
   "mimetype": "text/x-python",
   "name": "python",
   "nbconvert_exporter": "python",
   "pygments_lexer": "ipython3",
   "version": "3.8.5"
  }
 },
 "nbformat": 4,
 "nbformat_minor": 4
}
